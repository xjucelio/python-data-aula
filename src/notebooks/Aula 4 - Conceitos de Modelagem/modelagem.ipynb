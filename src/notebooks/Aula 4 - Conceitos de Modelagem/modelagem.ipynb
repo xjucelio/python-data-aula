{
 "cells": [
  {
   "cell_type": "markdown",
   "id": "6b4fb331-e114-408b-b086-ad61ae78300f",
   "metadata": {
    "jp-MarkdownHeadingCollapsed": true,
    "tags": []
   },
   "source": [
    "## 1. Criação/Manipulação da base de dados"
   ]
  },
  {
   "cell_type": "markdown",
   "id": "38fe9f22-c099-4ba9-af8a-203057482e2b",
   "metadata": {
    "tags": []
   },
   "source": [
    "### Importando as Bibliotecas"
   ]
  },
  {
   "cell_type": "code",
   "execution_count": 43,
   "id": "7b4eeab3-b309-49bf-8f19-ae1ede599920",
   "metadata": {},
   "outputs": [],
   "source": [
    "import numpy as np\n",
    "import pandas as pd\n",
    "import matplotlib.pyplot as plt"
   ]
  },
  {
   "cell_type": "markdown",
   "id": "ce8a40a6-681a-4cc2-af60-370443dbbe91",
   "metadata": {},
   "source": [
    "### Importando a Base de Dados"
   ]
  },
  {
   "cell_type": "code",
   "execution_count": 44,
   "id": "daf395b0-7100-455e-bf36-b00058f16db1",
   "metadata": {},
   "outputs": [],
   "source": [
    "df = pd.read_csv('Salary_Data.csv')"
   ]
  },
  {
   "cell_type": "code",
   "execution_count": 45,
   "id": "37f8d6f9-3c87-47cb-8c5d-13ae6ad6f784",
   "metadata": {},
   "outputs": [
    {
     "data": {
      "text/html": [
       "<div>\n",
       "<style scoped>\n",
       "    .dataframe tbody tr th:only-of-type {\n",
       "        vertical-align: middle;\n",
       "    }\n",
       "\n",
       "    .dataframe tbody tr th {\n",
       "        vertical-align: top;\n",
       "    }\n",
       "\n",
       "    .dataframe thead th {\n",
       "        text-align: right;\n",
       "    }\n",
       "</style>\n",
       "<table border=\"1\" class=\"dataframe\">\n",
       "  <thead>\n",
       "    <tr style=\"text-align: right;\">\n",
       "      <th></th>\n",
       "      <th>YearsExperience</th>\n",
       "      <th>Salary</th>\n",
       "    </tr>\n",
       "  </thead>\n",
       "  <tbody>\n",
       "    <tr>\n",
       "      <th>0</th>\n",
       "      <td>1.1</td>\n",
       "      <td>39343.0</td>\n",
       "    </tr>\n",
       "    <tr>\n",
       "      <th>1</th>\n",
       "      <td>1.3</td>\n",
       "      <td>46205.0</td>\n",
       "    </tr>\n",
       "    <tr>\n",
       "      <th>2</th>\n",
       "      <td>1.5</td>\n",
       "      <td>37731.0</td>\n",
       "    </tr>\n",
       "    <tr>\n",
       "      <th>3</th>\n",
       "      <td>2.0</td>\n",
       "      <td>43525.0</td>\n",
       "    </tr>\n",
       "    <tr>\n",
       "      <th>4</th>\n",
       "      <td>2.2</td>\n",
       "      <td>39891.0</td>\n",
       "    </tr>\n",
       "  </tbody>\n",
       "</table>\n",
       "</div>"
      ],
      "text/plain": [
       "   YearsExperience   Salary\n",
       "0              1.1  39343.0\n",
       "1              1.3  46205.0\n",
       "2              1.5  37731.0\n",
       "3              2.0  43525.0\n",
       "4              2.2  39891.0"
      ]
     },
     "execution_count": 45,
     "metadata": {},
     "output_type": "execute_result"
    }
   ],
   "source": [
    "df.head()"
   ]
  },
  {
   "cell_type": "code",
   "execution_count": 46,
   "id": "c39430fb-4df6-48f5-8b3a-0d2e051228b0",
   "metadata": {},
   "outputs": [],
   "source": [
    "X = df.iloc[:, :-1].values\n",
    "y = df.iloc[:, -1].values"
   ]
  },
  {
   "cell_type": "code",
   "execution_count": 47,
   "id": "66e18aeb-7c46-4dfc-8d2e-33a0e44ca37e",
   "metadata": {},
   "outputs": [
    {
     "data": {
      "text/plain": [
       "array([ 39343.,  46205.,  37731.,  43525.,  39891.,  56642.,  60150.,\n",
       "        54445.,  64445.,  57189.,  63218.,  55794.,  56957.,  57081.,\n",
       "        61111.,  67938.,  66029.,  83088.,  81363.,  93940.,  91738.,\n",
       "        98273., 101302., 113812., 109431., 105582., 116969., 112635.,\n",
       "       122391., 121872.])"
      ]
     },
     "execution_count": 47,
     "metadata": {},
     "output_type": "execute_result"
    }
   ],
   "source": [
    "y"
   ]
  },
  {
   "cell_type": "markdown",
   "id": "16150f03-dd20-45c1-83d5-f7858bb68454",
   "metadata": {
    "jp-MarkdownHeadingCollapsed": true,
    "tags": []
   },
   "source": [
    "## 2. Tratamento das Variáveis (Variáveis Categóricas, Padronização, etc)"
   ]
  },
  {
   "cell_type": "markdown",
   "id": "93ef2d97-cb4d-42f3-bca2-67815ab99356",
   "metadata": {},
   "source": [
    "### Separando a Base de Dados em Treino e Teste"
   ]
  },
  {
   "cell_type": "code",
   "execution_count": 48,
   "id": "d67eda27-0c7a-48ba-b30e-729b0691d1b5",
   "metadata": {},
   "outputs": [],
   "source": [
    "from sklearn.model_selection import train_test_split\n",
    "X_treino, X_teste, y_treino, y_teste = train_test_split(X, y, test_size = 0.3)"
   ]
  },
  {
   "cell_type": "code",
   "execution_count": 49,
   "id": "5015b1d2-1025-4438-90ec-e3602fbe8552",
   "metadata": {},
   "outputs": [
    {
     "data": {
      "text/plain": [
       "array([[ 7.1],\n",
       "       [ 8.2],\n",
       "       [ 3.2],\n",
       "       [ 3.9],\n",
       "       [ 3.7],\n",
       "       [ 4. ],\n",
       "       [ 1.5],\n",
       "       [10.3],\n",
       "       [ 4.1]])"
      ]
     },
     "execution_count": 49,
     "metadata": {},
     "output_type": "execute_result"
    }
   ],
   "source": [
    "X_teste"
   ]
  },
  {
   "cell_type": "code",
   "execution_count": 50,
   "id": "e9e1b06f-b404-4b43-a20c-6d00d2a13678",
   "metadata": {},
   "outputs": [
    {
     "data": {
      "text/plain": [
       "array([ 98273., 113812.,  64445.,  63218.,  57189.,  56957.,  37731.,\n",
       "       122391.,  57081.])"
      ]
     },
     "execution_count": 50,
     "metadata": {},
     "output_type": "execute_result"
    }
   ],
   "source": [
    "y_teste"
   ]
  },
  {
   "cell_type": "markdown",
   "id": "e8f178be-a36c-461b-8588-552f9331c267",
   "metadata": {
    "jp-MarkdownHeadingCollapsed": true,
    "tags": []
   },
   "source": [
    "## 3. Aplicação do Modelo"
   ]
  },
  {
   "cell_type": "markdown",
   "id": "e1b12a05-6f7a-49fe-8d3f-65da63e45888",
   "metadata": {},
   "source": [
    "### Aplicação do Modelo"
   ]
  },
  {
   "cell_type": "code",
   "execution_count": 51,
   "id": "44832d07-a57e-4735-b415-a5b038853f0a",
   "metadata": {},
   "outputs": [
    {
     "data": {
      "text/plain": [
       "LinearRegression(copy_X=True, fit_intercept=True, n_jobs=None, normalize=False)"
      ]
     },
     "execution_count": 51,
     "metadata": {},
     "output_type": "execute_result"
    }
   ],
   "source": [
    "from sklearn.linear_model import LinearRegression\n",
    "regressor = LinearRegression()\n",
    "regressor.fit(X_treino, y_treino)"
   ]
  },
  {
   "cell_type": "markdown",
   "id": "40dae255-79e2-4ec1-81b0-1cf6400b01dd",
   "metadata": {},
   "source": [
    "### Prevendo o Conjunto de Teste"
   ]
  },
  {
   "cell_type": "code",
   "execution_count": 52,
   "id": "6a3d905f-e983-4a21-abce-1247365846d4",
   "metadata": {},
   "outputs": [],
   "source": [
    "y_prev = regressor.predict(X_teste)"
   ]
  },
  {
   "cell_type": "markdown",
   "id": "f9309e45-5e30-41c9-831a-054391f09166",
   "metadata": {},
   "source": [
    "### Visualizar os Resultados"
   ]
  },
  {
   "cell_type": "code",
   "execution_count": 53,
   "id": "79618f22-9428-4647-b1af-682f31c8d4e0",
   "metadata": {},
   "outputs": [
    {
     "data": {
      "image/png": "[encoded data removed]",
      "text/plain": [
       "<Figure size 640x480 with 1 Axes>"
      ]
     },
     "metadata": {},
     "output_type": "display_data"
    }
   ],
   "source": [
    "plt.scatter(X_teste, y_teste, color = 'red')\n",
    "plt.plot(X_teste, y_prev, color = 'blue')\n",
    "plt.title('Salário vs Anos de Experiência')\n",
    "plt.xlabel('Anos de Experiência')\n",
    "plt.ylabel('Salário')\n",
    "plt.show()"
   ]
  },
  {
   "cell_type": "markdown",
   "id": "cb0956be-85f8-4118-af6a-d1ba3f423883",
   "metadata": {},
   "source": [
    "### Avaliando os Resultados"
   ]
  },
  {
   "cell_type": "code",
   "execution_count": 54,
   "id": "f40e6819-10c0-4241-8d14-1f2dedccfe71",
   "metadata": {},
   "outputs": [],
   "source": [
    "from sklearn.metrics import mean_squared_error as mse\n",
    "from math import sqrt"
   ]
  },
  {
   "cell_type": "markdown",
   "id": "bac0bb52-9c65-436a-8710-f8afbbe2e190",
   "metadata": {
    "jp-MarkdownHeadingCollapsed": true,
    "tags": []
   },
   "source": [
    "## 4. Medição dos resultados"
   ]
  },
  {
   "cell_type": "markdown",
   "id": "ebcdc51e-23e6-4a13-bddd-513d24eea7d1",
   "metadata": {},
   "source": [
    "### Calculando o RMSE"
   ]
  },
  {
   "cell_type": "code",
   "execution_count": 55,
   "id": "32fc60a6-6a67-4b03-9ca9-037c6049811c",
   "metadata": {},
   "outputs": [],
   "source": [
    "erro = sqrt(mse(y_teste, y_prev))"
   ]
  },
  {
   "cell_type": "code",
   "execution_count": 56,
   "id": "f36137eb-1766-4d0b-895d-9e96903153c0",
   "metadata": {},
   "outputs": [
    {
     "data": {
      "text/plain": [
       "6366.335586674824"
      ]
     },
     "execution_count": 56,
     "metadata": {},
     "output_type": "execute_result"
    }
   ],
   "source": [
    "erro"
   ]
  },
  {
   "cell_type": "markdown",
   "id": "ed590e69-2417-4b50-b887-c6107ca39df6",
   "metadata": {},
   "source": [
    "### Calculando o R^2"
   ]
  },
  {
   "cell_type": "code",
   "execution_count": 57,
   "id": "71773717-c165-4f00-a033-ac127d156415",
   "metadata": {},
   "outputs": [],
   "source": [
    "from sklearn.metrics import r2_score as r2"
   ]
  },
  {
   "cell_type": "code",
   "execution_count": 58,
   "id": "2cabc9a5-1cda-44a4-b71e-e0a2ee793f9f",
   "metadata": {},
   "outputs": [],
   "source": [
    "erro = r2(y_teste, y_prev)"
   ]
  },
  {
   "cell_type": "code",
   "execution_count": 59,
   "id": "a68c368b-599f-4f00-93c6-fb148b0a3f92",
   "metadata": {},
   "outputs": [
    {
     "data": {
      "text/plain": [
       "0.9470983898931984"
      ]
     },
     "execution_count": 59,
     "metadata": {},
     "output_type": "execute_result"
    }
   ],
   "source": [
    "erro"
   ]
  },
  {
   "cell_type": "code",
   "execution_count": null,
   "id": "f65e5c0c-1d69-4b7a-9513-9522e4db9b3e",
   "metadata": {},
   "outputs": [],
   "source": []
  }
 ],
 "metadata": {
  "kernelspec": {
   "display_name": "Python 3",
   "language": "python",
   "name": "python3"
  },
  "language_info": {
   "codemirror_mode": {
    "name": "ipython",
    "version": 3
   },
   "file_extension": ".py",
   "mimetype": "text/x-python",
   "name": "python",
   "nbconvert_exporter": "python",
   "pygments_lexer": "ipython3",
   "version": "3.7.8"
  }
 },
 "nbformat": 4,
 "nbformat_minor": 5
}
