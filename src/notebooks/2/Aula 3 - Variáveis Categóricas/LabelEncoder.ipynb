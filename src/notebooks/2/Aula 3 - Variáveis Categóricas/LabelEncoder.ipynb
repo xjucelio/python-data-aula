{
 "cells": [
  {
   "cell_type": "markdown",
   "id": "4e006180-2bd8-4b0b-9f24-ea43d4c193fd",
   "metadata": {},
   "source": [
    "### Importando as Bibliotecas"
   ]
  },
  {
   "cell_type": "code",
   "execution_count": 2,
   "id": "6f8ba872-e770-432e-a944-a8b1ae4f6557",
   "metadata": {},
   "outputs": [],
   "source": [
    "import pandas as pd"
   ]
  },
  {
   "cell_type": "markdown",
   "id": "d35e7008-7af0-4f87-b84c-4c091e0f12e6",
   "metadata": {
    "tags": []
   },
   "source": [
    "### Criando o Dataframe"
   ]
  },
  {
   "cell_type": "code",
   "execution_count": 14,
   "id": "225504fd-afe7-48c4-b148-6b0dfaf48be0",
   "metadata": {},
   "outputs": [],
   "source": [
    "data = {'Sexo':['Masculino', 'Feminino'], 'Idade': [70, 75]}"
   ]
  },
  {
   "cell_type": "code",
   "execution_count": 15,
   "id": "8282842e-c22f-4ea2-af71-5da198dcdb87",
   "metadata": {},
   "outputs": [],
   "source": [
    "df = pd.DataFrame(data)"
   ]
  },
  {
   "cell_type": "code",
   "execution_count": 6,
   "id": "f9fd0e8f-541a-4332-a063-9a80579404bf",
   "metadata": {},
   "outputs": [
    {
     "data": {
      "text/html": [
       "<div>\n",
       "<style scoped>\n",
       "    .dataframe tbody tr th:only-of-type {\n",
       "        vertical-align: middle;\n",
       "    }\n",
       "\n",
       "    .dataframe tbody tr th {\n",
       "        vertical-align: top;\n",
       "    }\n",
       "\n",
       "    .dataframe thead th {\n",
       "        text-align: right;\n",
       "    }\n",
       "</style>\n",
       "<table border=\"1\" class=\"dataframe\">\n",
       "  <thead>\n",
       "    <tr style=\"text-align: right;\">\n",
       "      <th></th>\n",
       "      <th>Sexo</th>\n",
       "      <th>Idade</th>\n",
       "    </tr>\n",
       "  </thead>\n",
       "  <tbody>\n",
       "    <tr>\n",
       "      <th>0</th>\n",
       "      <td>Masculino</td>\n",
       "      <td>70</td>\n",
       "    </tr>\n",
       "    <tr>\n",
       "      <th>1</th>\n",
       "      <td>Feminino</td>\n",
       "      <td>75</td>\n",
       "    </tr>\n",
       "  </tbody>\n",
       "</table>\n",
       "</div>"
      ],
      "text/plain": [
       "        Sexo  Idade\n",
       "0  Masculino     70\n",
       "1   Feminino     75"
      ]
     },
     "execution_count": 6,
     "metadata": {},
     "output_type": "execute_result"
    }
   ],
   "source": [
    "df"
   ]
  },
  {
   "cell_type": "markdown",
   "id": "391cdf27-53c6-41ba-8335-c9acc676a36d",
   "metadata": {},
   "source": [
    "### Codificando a Coluna 'Sexo'"
   ]
  },
  {
   "cell_type": "code",
   "execution_count": 16,
   "id": "ecdd9219-814d-474a-8232-7aa36d4bf870",
   "metadata": {},
   "outputs": [],
   "source": [
    "from sklearn.preprocessing import LabelEncoder"
   ]
  },
  {
   "cell_type": "code",
   "execution_count": 19,
   "id": "7295b9cf-88b5-4877-a777-2a5f6df2a83a",
   "metadata": {},
   "outputs": [],
   "source": [
    "le = LabelEncoder()\n",
    "df['Sexo'] = le.fit_transform(df['Sexo'])"
   ]
  },
  {
   "cell_type": "code",
   "execution_count": 12,
   "id": "c8c87bcf-bc78-49b9-a314-4972cf9ba4dc",
   "metadata": {},
   "outputs": [],
   "source": [
    "df['Sexo'] = le.fit_transform(df['Sexo'])"
   ]
  },
  {
   "cell_type": "code",
   "execution_count": 13,
   "id": "ea6ad787-0734-474b-90bd-f7a0c94b127d",
   "metadata": {},
   "outputs": [
    {
     "data": {
      "text/html": [
       "<div>\n",
       "<style scoped>\n",
       "    .dataframe tbody tr th:only-of-type {\n",
       "        vertical-align: middle;\n",
       "    }\n",
       "\n",
       "    .dataframe tbody tr th {\n",
       "        vertical-align: top;\n",
       "    }\n",
       "\n",
       "    .dataframe thead th {\n",
       "        text-align: right;\n",
       "    }\n",
       "</style>\n",
       "<table border=\"1\" class=\"dataframe\">\n",
       "  <thead>\n",
       "    <tr style=\"text-align: right;\">\n",
       "      <th></th>\n",
       "      <th>Sexo</th>\n",
       "      <th>Idade</th>\n",
       "    </tr>\n",
       "  </thead>\n",
       "  <tbody>\n",
       "    <tr>\n",
       "      <th>0</th>\n",
       "      <td>1</td>\n",
       "      <td>70</td>\n",
       "    </tr>\n",
       "    <tr>\n",
       "      <th>1</th>\n",
       "      <td>0</td>\n",
       "      <td>75</td>\n",
       "    </tr>\n",
       "  </tbody>\n",
       "</table>\n",
       "</div>"
      ],
      "text/plain": [
       "   Sexo  Idade\n",
       "0     1     70\n",
       "1     0     75"
      ]
     },
     "execution_count": 13,
     "metadata": {},
     "output_type": "execute_result"
    }
   ],
   "source": [
    "df"
   ]
  },
  {
   "cell_type": "code",
   "execution_count": null,
   "id": "5154bf00-20d3-4d6c-8771-d24fcb37ae1c",
   "metadata": {},
   "outputs": [],
   "source": []
  }
 ],
 "metadata": {
  "kernelspec": {
   "display_name": "Python 3",
   "language": "python",
   "name": "python3"
  },
  "language_info": {
   "codemirror_mode": {
    "name": "ipython",
    "version": 3
   },
   "file_extension": ".py",
   "mimetype": "text/x-python",
   "name": "python",
   "nbconvert_exporter": "python",
   "pygments_lexer": "ipython3",
   "version": "3.7.8"
  }
 },
 "nbformat": 4,
 "nbformat_minor": 5
}
